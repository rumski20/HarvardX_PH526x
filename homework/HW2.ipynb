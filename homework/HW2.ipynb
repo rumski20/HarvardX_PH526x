{
 "cells": [
  {
   "cell_type": "markdown",
   "metadata": {},
   "source": [
    "# Using Python for Research Homework: Week 2\n",
    "\n",
    "In this homework, we will use the tools we've covered in the past two weeks to create a tic-tac-toe (noughts and crosses) simulator and evaluate basic winning strategies."
   ]
  },
  {
   "cell_type": "markdown",
   "metadata": {},
   "source": [
    "### Exercise 1\n",
    "\n",
    "Tic-tac-toe (or noughts and crosses) is a simple strategy game in which two players take turns placing a mark on a 3x3 board, attempting to make a row, column, or diagonal of three with their mark. In this homework, we will use the tools we've covered in the past two weeks to create a tic-tac-toe simulator and evaluate basic winning strategies.\n",
    "\n",
    "In the following exercises, we will learn to create a tic-tac-toe board, place markers on the board, evaluate if either player has won, and use this to simulate two basic strategies.\n",
    "\n",
    "#### Instructions \n",
    "\n",
    "- For our tic-tac-toe board, we will use a numpy array with dimension 3 by 3. \n",
    "- Make a function `create_board()` that creates such a board with the value of each cell set to the integer `0`.\n",
    "- Call `create_board()` and store it."
   ]
  },
  {
   "cell_type": "code",
   "execution_count": 127,
   "metadata": {},
   "outputs": [],
   "source": [
    "# write your code here!\n",
    "import numpy as np\n",
    "\n",
    "def create_board():\n",
    "    return np.zeros(shape=(3,3), dtype=int)\n",
    "\n",
    "board = create_board()\n",
    "# print(board)"
   ]
  },
  {
   "cell_type": "markdown",
   "metadata": {},
   "source": [
    "### Exercise 2\n",
    "\n",
    "Players 1 and 2 will take turns changing values of this array from a 0 to a 1 or 2, indicating the number of the player who places a marker there.\n",
    "\n",
    "#### Instructions \n",
    "\n",
    "- Create a function `place(board, player, position)`, where:\n",
    "    - `player` is the current player (an integer 1 or 2).\n",
    "    - `position` is a tuple of length 2 specifying a desired location to place their marker.\n",
    "    - Your function should only allow the current player to place a marker on the board (change the board position to their number) if that position is empty (zero).\n",
    "- Use `create_board()` to store a board as `board`, and use `place` to have Player 1 place a marker on location `(0, 0)`."
   ]
  },
  {
   "cell_type": "code",
   "execution_count": 128,
   "metadata": {},
   "outputs": [
    {
     "name": "stdout",
     "output_type": "stream",
     "text": [
      "[[1 0 0]\n",
      " [0 0 0]\n",
      " [0 0 0]]\n"
     ]
    }
   ],
   "source": [
    "# write your code here!\n",
    "def place(board, player, position):\n",
    "    # check if space is empty\n",
    "    if board[position] == 0:\n",
    "        # if it is place a marker there for the player\n",
    "        board[position] = player\n",
    "\n",
    "# testing\n",
    "board = create_board()\n",
    "place(board=board, player=1, position=(0,0))\n",
    "print(board)\n"
   ]
  },
  {
   "cell_type": "markdown",
   "metadata": {},
   "source": [
    "### Exercise 3\n",
    "\n",
    "In this exercise, we will determine which positions are available to either player for placing their marker.\n",
    "\n",
    "#### Instructions \n",
    "- Create a function `possibilities(board)` that returns a list of all positions (tuples) on the board that are not occupied (0). (Hint: `numpy.where` is a handy function that returns a list of indices that meet a condition.)\n",
    "- `board` is already defined from previous exercises. Call `possibilities(board)` to see what it returns!"
   ]
  },
  {
   "cell_type": "code",
   "execution_count": 129,
   "metadata": {},
   "outputs": [
    {
     "name": "stdout",
     "output_type": "stream",
     "text": [
      "[(0, 1), (0, 2), (1, 0), (1, 1), (1, 2), (2, 0), (2, 1), (2, 2)]\n"
     ]
    }
   ],
   "source": [
    "# write your code here!\n",
    "def possibilities(board):\n",
    "    # check to see if position is open (equal to zero)\n",
    "    # return np.where(board == 0, True, False)\n",
    "    indices = np.transpose(np.nonzero(board == 0))\n",
    "    return [tuple(i) for i in indices]\n",
    "    # return board[poss_ind]\n",
    "\n",
    "# testing\n",
    "# print(board)\n",
    "print(possibilities(board))"
   ]
  },
  {
   "cell_type": "markdown",
   "metadata": {},
   "source": [
    "### Exercise 4\n",
    "\n",
    "The next step is for the current player to place a marker among the available positions. In this exercise, we will select an available board position at random and place a marker there.\n",
    "\n",
    "#### Instructions \n",
    "\n",
    "- Write a function `random_place(board, player)` that places a marker for the current player at random among all the available positions (those currently set to 0).\n",
    "    - Find possible placements with `possibilities(board)`.\n",
    "    - Select one possible placement at random using `random.choice(selection)`.\n",
    "- `board` is already defined from previous exercises. Call `random_place(board, player)` to place a random marker for Player 2, and store this as board to update its value."
   ]
  },
  {
   "cell_type": "code",
   "execution_count": 130,
   "metadata": {},
   "outputs": [
    {
     "name": "stdout",
     "output_type": "stream",
     "text": [
      "[[1 0 0]\n",
      " [0 0 0]\n",
      " [0 0 0]]\n",
      "[[1 0 2]\n",
      " [0 0 0]\n",
      " [0 0 0]]\n"
     ]
    }
   ],
   "source": [
    "import random \n",
    "random.seed(1)\n",
    "\n",
    "# write your code here!\n",
    "def random_place(board, player):\n",
    "    # get possible positions\n",
    "    poss = possibilities(board)\n",
    "    # get a random position\n",
    "    position = poss[np.random.choice(len(poss))]\n",
    "    # print(f'random possible position for player {player}: {position}')\n",
    "    # mark position\n",
    "    board[position] = player\n",
    "\n",
    "# testing\n",
    "print(board)\n",
    "random_place(board, 2)\n",
    "print(board)\n"
   ]
  },
  {
   "cell_type": "markdown",
   "metadata": {},
   "source": [
    "### Exercise 5\n",
    "\n",
    "We will now have both players place three markers each.\n",
    "\n",
    "#### Instructions \n",
    "\n",
    "- A new `board` is already given. Call `random_place(board, player)` to place three pieces each on board for players 1 and 2.\n",
    "- Print board to see your result."
   ]
  },
  {
   "cell_type": "code",
   "execution_count": 131,
   "metadata": {},
   "outputs": [
    {
     "name": "stdout",
     "output_type": "stream",
     "text": [
      "[[2 2 1]\n",
      " [1 1 2]\n",
      " [0 0 0]]\n"
     ]
    }
   ],
   "source": [
    "random.seed(1)\n",
    "board = create_board()\n",
    "\n",
    "# write your code here!\n",
    "for n in range(3):\n",
    "    random_place(board, 1)\n",
    "    random_place(board, 2)\n",
    "\n",
    "print(board)"
   ]
  },
  {
   "cell_type": "markdown",
   "metadata": {},
   "source": [
    "### Exercise 6\n",
    "\n",
    "In the next few exercises, we will make functions that check whether either player has won the game.\n",
    "\n",
    "#### Instructions \n",
    "- Make a function `row_win(board, player)` that takes the player (integer) and determines if any row consists of only their marker. \n",
    "    - Have it return `True` if this condition is met and `False` otherwise.\n",
    "- `board` is already defined from previous exercises. Call `row_win` to check if Player 1 has a complete row."
   ]
  },
  {
   "cell_type": "code",
   "execution_count": 132,
   "metadata": {},
   "outputs": [
    {
     "data": {
      "text/plain": [
       "False"
      ]
     },
     "execution_count": 132,
     "metadata": {},
     "output_type": "execute_result"
    }
   ],
   "source": [
    "# write your code here!\n",
    "def row_win(board, player):\n",
    "    # first create boolean board to see where player has placed marker\n",
    "    boolean_board = np.where(board == player, True, False)\n",
    "    # then call np.all twice to get single True/False\n",
    "    result = np.all(np.all(a=boolean_board, axis=0))\n",
    "    # print(f'''\n",
    "    # is there a row win for player {player}? \n",
    "    #   board: {board}\n",
    "    #   boolean board: {boolean_board}\n",
    "    #   result: {result}\n",
    "    #   ''')\n",
    "    return result\n",
    "\n",
    "row_win(board, player=1)\n"
   ]
  },
  {
   "cell_type": "markdown",
   "metadata": {},
   "source": [
    "### Exercise 7\n",
    "\n",
    "In the next few exercises, we will make functions that verify if either player has won the game.\n",
    "\n",
    "#### Instructions \n",
    "- Make a function `col_win(board, player)` that takes the player (integer) and determines if any column consists of only their marker. \n",
    "    - Have it return `True` if this condition is met and `False` otherwise.\n",
    "- `board` is already defined from previous exercises. Call `col_win` to check if Player 1 has a complete row."
   ]
  },
  {
   "cell_type": "code",
   "execution_count": 133,
   "metadata": {},
   "outputs": [
    {
     "data": {
      "text/plain": [
       "False"
      ]
     },
     "execution_count": 133,
     "metadata": {},
     "output_type": "execute_result"
    }
   ],
   "source": [
    "# write your code here! \n",
    "def col_win(board, player):\n",
    "    # first create boolean board to see where player has placed marker\n",
    "    boolean_board = np.where(board == player, True, False)\n",
    "    # then call np.all twice to get single True/False\n",
    "    result = np.all(np.all(a=boolean_board, axis=1))\n",
    "    # print(f'''\n",
    "    # is there a col win for player {player}? \n",
    "    #   board: {board}\n",
    "    #   boolean board: {boolean_board}\n",
    "    #   result: {result}\n",
    "    #   ''')\n",
    "    return result\n",
    "\n",
    "col_win(board, player=1)"
   ]
  },
  {
   "cell_type": "markdown",
   "metadata": {},
   "source": [
    "### Exercise 8\n",
    "\n",
    "In the next few exercises, we will make functions that verify if either player has won the game.\n",
    "\n",
    "#### Instructions \n",
    "- Finally, create a function `diag_win(board, player)` that tests if either diagonal of the board consists of only their marker. Have it return `True` if this condition is met, and `False` otherwise.\n",
    "- `board` has been slightly modified from a previous exercise. Call `diag_win` to check if Player 2 has a complete diagonal."
   ]
  },
  {
   "cell_type": "code",
   "execution_count": 134,
   "metadata": {},
   "outputs": [
    {
     "data": {
      "text/plain": [
       "False"
      ]
     },
     "execution_count": 134,
     "metadata": {},
     "output_type": "execute_result"
    }
   ],
   "source": [
    "board[1,1] = 2\n",
    "\n",
    "# write your code here!\n",
    "def diag_win(board, player):\n",
    "    # first get diagonals\n",
    "    diag1 = board.diagonal()\n",
    "    diag2 = np.fliplr(board).diagonal()\n",
    "    # then call np.all twice to get single True/False\n",
    "    result = (diag1 == player).all() or (diag2 == player).all()\n",
    "    # print(f'''\n",
    "    # is there a diag win for player {player}? \n",
    "    #   board: {board}\n",
    "    #   first diagonal: {diag1}\n",
    "    #   second diagonal: {diag2}\n",
    "    #   result: {result}\n",
    "    #   ''')\n",
    "    return result\n",
    "\n",
    "diag_win(board, player=2)"
   ]
  },
  {
   "cell_type": "markdown",
   "metadata": {},
   "source": [
    "### Exercise 9\n",
    "\n",
    "In the next few exercises, we will make functions that check whether either player has won the game.\n",
    "\n",
    "#### Instructions \n",
    "- Create a function `evaluate(board)` that uses `row_win`, `col_win`, and `diag_win` functions for both players. If one of them has won, return that player's number. If the board is full but no one has won, return -1. Otherwise, return 0.\n",
    "- `board` is already defined from previous exercises. Call evaluate to see if either player has won the game yet."
   ]
  },
  {
   "cell_type": "code",
   "execution_count": 135,
   "metadata": {},
   "outputs": [
    {
     "name": "stdout",
     "output_type": "stream",
     "text": [
      "the winner is player 0\n"
     ]
    }
   ],
   "source": [
    "def evaluate(board):\n",
    "    winner = 0\n",
    "    for player in [1, 2]:\n",
    "        # add your code here!\n",
    "        if row_win(board=board, player=player) or col_win(board=board, player=player) or diag_win(board=board, player=player):\n",
    "            winner = player\n",
    "    if np.all(board != 0) and winner == 0:\n",
    "        winner = -1\n",
    "    return winner\n",
    "\n",
    "print(f'the winner is player {evaluate(board)}')"
   ]
  },
  {
   "cell_type": "markdown",
   "metadata": {},
   "source": [
    "### Exercise 10\n",
    "\n",
    "In this exercise, we will use all the functions we have made to simulate an entire game.\n",
    "\n",
    "#### Instructions \n",
    "\n",
    "- `create_board()`, `random_place(board, player)`, and `evaluate(board)` have been created in previous exercises. Create a function `play_game()` that:\n",
    "    - Creates a board.\n",
    "    - Alternates taking turns between two players (beginning with Player 1), placing a marker during each turn.\n",
    "    - Evaluates the board for a winner after each placement.\n",
    "    - Continues the game until one player wins (returning 1 or 2 to reflect the winning player), or the game is a draw (returning -1).\n",
    "- Call play_game 1000 times, and store the results of the game in a list called `results`."
   ]
  },
  {
   "cell_type": "code",
   "execution_count": 137,
   "metadata": {},
   "outputs": [
    {
     "name": "stdout",
     "output_type": "stream",
     "text": [
      "player 1: 222  player 2: 103  draw: 675\n"
     ]
    }
   ],
   "source": [
    "\n",
    "random.seed(1)\n",
    "\n",
    "# write your code here! \n",
    "def play_game():\n",
    "    board = create_board()\n",
    "\n",
    "    # init winner\n",
    "    winner = 0\n",
    "    # init player\n",
    "    player = 1\n",
    "\n",
    "    # continue placing pieces until someone wins\n",
    "    while winner == 0:\n",
    "        # player places a random piece\n",
    "        random_place(board=board, player=player)\n",
    "        # check for a winner\n",
    "        winner = evaluate(board=board)\n",
    "        \n",
    "        # testing\n",
    "        # print(f'player: {player}')\n",
    "        # print(board)\n",
    "        # print(f'winner: {winner}')\n",
    "        # print('---------------------------')\n",
    "\n",
    "        # switch to other player\n",
    "        player = 2 if player==1 else 1\n",
    "\n",
    "\n",
    "    return winner\n",
    "\n",
    "results = [play_game() for g in range(1000)]\n",
    "print(f'player 1: {results.count(1)}  player 2: {results.count(2)}  draw: {results.count(-1)}')\n",
    "        \n"
   ]
  },
  {
   "cell_type": "markdown",
   "metadata": {},
   "source": [
    "#### Exercise 11\n",
    "\n",
    "In the previous exercise, we see that when guessing at random, it's better to go first, as expected. Let's see if Player 1 can improve their strategy. \n",
    "\n",
    "#### Instructions \n",
    "- Create a function `play_strategic_game()`, where Player 1 always starts with the middle square, and otherwise both players place their markers randomly.\n",
    "- Call `play_strategic_game` 1000 times."
   ]
  },
  {
   "cell_type": "code",
   "execution_count": 143,
   "metadata": {},
   "outputs": [
    {
     "name": "stdout",
     "output_type": "stream",
     "text": [
      "player 1: 403  player 2: 0  draw: 597\n"
     ]
    }
   ],
   "source": [
    "random.seed(1)\n",
    "\n",
    "# write your code here! \n",
    "def play_strategic_game():\n",
    "    board = create_board()\n",
    "    # modify board so player 1 has already placed in the middle\n",
    "    board[(1,1)] = 1\n",
    "\n",
    "    # init winner\n",
    "    winner = 0\n",
    "    # init player\n",
    "    player = 2\n",
    "\n",
    "    # continue placing pieces until someone wins\n",
    "    while winner == 0:\n",
    "        # player places a random piece\n",
    "        random_place(board=board, player=player)\n",
    "        # check for a winner\n",
    "        winner = evaluate(board=board)\n",
    "        \n",
    "        # testing\n",
    "        # print(f'player: {player}')\n",
    "        # print(board)\n",
    "        # print(f'winner: {winner}')\n",
    "        # print('---------------------------')\n",
    "\n",
    "        # switch to other player\n",
    "        player = 1 if player==2 else 2\n",
    "\n",
    "\n",
    "    return winner\n",
    "\n",
    "# play_strategic_game()\n",
    "\n",
    "results = [play_strategic_game() for g in range(1000)]\n",
    "print(f'player 1: {results.count(1)}  player 2: {results.count(2)}  draw: {results.count(-1)}')\n",
    "        \n"
   ]
  }
 ],
 "metadata": {
  "kernelspec": {
   "display_name": "Python 3.10.6 ('base')",
   "language": "python",
   "name": "python3"
  },
  "language_info": {
   "codemirror_mode": {
    "name": "ipython",
    "version": 3
   },
   "file_extension": ".py",
   "mimetype": "text/x-python",
   "name": "python",
   "nbconvert_exporter": "python",
   "pygments_lexer": "ipython3",
   "version": "3.10.6"
  },
  "vscode": {
   "interpreter": {
    "hash": "d4d1e4263499bec80672ea0156c357c1ee493ec2b1c70f0acce89fc37c4a6abe"
   }
  }
 },
 "nbformat": 4,
 "nbformat_minor": 2
}
