{
 "cells": [
  {
   "cell_type": "markdown",
   "metadata": {},
   "source": [
    "# Using Python for Research Homework: Week 3, Case Study 1\n",
    "\n",
    "A cipher is a secret code for a language.  In this case study, we will explore a cipher that is reported by contemporary Greek historians to have been used by Julius Caesar to send secret messages to generals during times of war."
   ]
  },
  {
   "cell_type": "markdown",
   "metadata": {},
   "source": [
    "### Exercise 1\n",
    "\n",
    "A cipher is a secret code for a language. In this case study, we will explore a cipher that is reported by contemporary Greek historians to have been used by Julius Caesar to send secret messages to generals during times of war.\n",
    "\n",
    "The Caesar cipher shifts each letter of a message to another letter in the alphabet located a fixed distance from the original letter. If our encryption key were `1`, we would shift `h` to the next letter `i`, `i` to the next letter `j`, and so on. If we reach the end of the alphabet, which for us is the space character, we simply loop back to `a`. To decode the message, we make a similar shift, except we move the same number of steps backwards in the alphabet.\n",
    "\n",
    "Over the next five exercises, we will create our own Caesar cipher, as well as a message decoder for this cipher. In this exercise, we will define the alphabet used in the cipher.\n",
    "\n",
    "#### Instructions\n",
    "- The `string` library has been imported. Create a string called `alphabet` consisting of the space character `' '` followed by (concatenated with) the lowercase letters. Note that we're only using the lowercase letters in this exercise."
   ]
  },
  {
   "cell_type": "code",
   "execution_count": 1,
   "metadata": {},
   "outputs": [
    {
     "name": "stdout",
     "output_type": "stream",
     "text": [
      " abcdefghijklmnopqrstuvwxyz\n"
     ]
    }
   ],
   "source": [
    "import string\n",
    "# write your code here!\n",
    "alphabet = ' ' + string.ascii_lowercase\n",
    "# testing\n",
    "print(alphabet)"
   ]
  },
  {
   "cell_type": "markdown",
   "metadata": {},
   "source": [
    "### Exercise 2 \n",
    "\n",
    "In this exercise, we will define a dictionary that specifies the index of each character in `alphabet`.\n",
    "\n",
    "#### Instructions \n",
    "- `alphabet` has already defined in the last exercise. Create a dictionary with keys consisting of the characters in alphabet and values consisting of the numbers from 0 to 26.\n",
    "- Store this as `positions`."
   ]
  },
  {
   "cell_type": "code",
   "execution_count": 4,
   "metadata": {},
   "outputs": [
    {
     "name": "stdout",
     "output_type": "stream",
     "text": [
      "{' ': 0, 'a': 1, 'b': 2, 'c': 3, 'd': 4, 'e': 5, 'f': 6, 'g': 7, 'h': 8, 'i': 9, 'j': 10, 'k': 11, 'l': 12, 'm': 13, 'n': 14, 'o': 15, 'p': 16, 'q': 17, 'r': 18, 's': 19, 't': 20, 'u': 21, 'v': 22, 'w': 23, 'x': 24, 'y': 25, 'z': 26}\n"
     ]
    }
   ],
   "source": [
    "# write your code here!\n",
    "positions = {value: key for (key, value) in enumerate(alphabet)}\n",
    "print(positions)"
   ]
  },
  {
   "cell_type": "markdown",
   "metadata": {},
   "source": [
    "### Exercise 3\n",
    "\n",
    "In this exercise, we will encode a message with a Caesar cipher.\n",
    "\n",
    "#### Instructions \n",
    "\n",
    "- `alphabet` and `positions` have already been defined in previous exercises. Use `positions` to create an encoded message based on message where each character in message has been shifted forward by 1 position, as defined by positions.\n",
    "- **Note that you can ensure the result remains within 0-26 using result % 27**\n",
    "- Store this as `encoded_message`."
   ]
  },
  {
   "cell_type": "code",
   "execution_count": null,
   "metadata": {},
   "outputs": [
    {
     "name": "stdout",
     "output_type": "stream",
     "text": [
      "original character h encoded as i\n",
      "original character i encoded as j\n",
      "original character   encoded as a\n",
      "original character m encoded as n\n",
      "original character y encoded as z\n",
      "original character   encoded as a\n",
      "original character n encoded as o\n",
      "original character a encoded as b\n",
      "original character m encoded as n\n",
      "original character e encoded as f\n",
      "original character   encoded as a\n",
      "original character i encoded as j\n",
      "original character s encoded as t\n",
      "original character   encoded as a\n",
      "original character c encoded as d\n",
      "original character a encoded as b\n",
      "original character e encoded as f\n",
      "original character s encoded as t\n",
      "original character a encoded as b\n",
      "original character r encoded as s\n",
      "ijanzaobnfajtadbftbs\n"
     ]
    }
   ],
   "source": [
    "message = \"hi my name is caesar\"\n",
    "# write your code here!\n",
    "\n",
    "encoded_message = ''\n",
    "# loop of characters in message\n",
    "for c in message:\n",
    "    # get current position of character\n",
    "    pos = positions[c]\n",
    "    # get new position, using modulo to ensure we loop back around\n",
    "    new_pos = (pos + 1) % 27\n",
    "    # get character at new position\n",
    "    # need to reverse dictionary\n",
    "    new_c = list(positions.keys())[list(positions.values()).index(new_pos)]\n",
    "    # add to encoded message\n",
    "    encoded_message += new_c\n",
    "    \n",
    "    #testing\n",
    "    # print(f'original character {c} encoded as {new_c}')\n",
    "\n",
    "print(encoded_message)\n"
   ]
  },
  {
   "cell_type": "markdown",
   "metadata": {},
   "source": [
    "### Exercise 4\n",
    "\n",
    "In this exercise, we will define a function that encodes a message with any given encryption key.\n",
    "\n",
    "#### Instructions \n",
    "- `alphabet`, `position` and `message` remain defined from previous exercises. Define a function `encoding` that takes a message as input as well as an int encryption key `key` to encode a message with the Caesar cipher by shifting each letter in message by key positions.\n",
    "- Your function should return a string consisting of these encoded letters.\n",
    "- Use `encoding` to encode message using `key = 3` and save the result as `encoded_message`.\n",
    "Print `encoded_message`."
   ]
  },
  {
   "cell_type": "code",
   "execution_count": 15,
   "metadata": {},
   "outputs": [
    {
     "name": "stdout",
     "output_type": "stream",
     "text": [
      "original character h encoded as k\n",
      "original character i encoded as l\n",
      "original character   encoded as c\n",
      "original character m encoded as p\n",
      "original character y encoded as a\n",
      "original character   encoded as c\n",
      "original character n encoded as q\n",
      "original character a encoded as d\n",
      "original character m encoded as p\n",
      "original character e encoded as h\n",
      "original character   encoded as c\n",
      "original character i encoded as l\n",
      "original character s encoded as v\n",
      "original character   encoded as c\n",
      "original character c encoded as f\n",
      "original character a encoded as d\n",
      "original character e encoded as h\n",
      "original character s encoded as v\n",
      "original character a encoded as d\n",
      "original character r encoded as u\n",
      "klcpacqdphclvcfdhvdu\n"
     ]
    }
   ],
   "source": [
    "# write your code here \n",
    "def encoding(message, key):\n",
    "    encoded_message = ''\n",
    "    # loop of characters in message\n",
    "    for c in message:\n",
    "        # get current position of character\n",
    "        pos = positions[c]\n",
    "        # get new position, using modulo to ensure we loop back around\n",
    "        new_pos = (pos + key) % 27\n",
    "        # get character at new position\n",
    "        # need to reverse dictionary\n",
    "        new_c = list(positions.keys())[list(positions.values()).index(new_pos)]\n",
    "        # add to encoded message\n",
    "        encoded_message += new_c\n",
    "        \n",
    "        #testing\n",
    "        print(f'original character {c} encoded as {new_c}')\n",
    "    return encoded_message\n",
    "\n",
    "encoded_message = encoding(message, 3)\n",
    "print(encoded_message)"
   ]
  },
  {
   "cell_type": "markdown",
   "metadata": {},
   "source": [
    "### Exercise 5\n",
    "\n",
    "In this exercise, we will decode an encoded message.\n",
    "\n",
    "#### Instructions \n",
    "- Use `encoding` to decode `encoded_message`.\n",
    "- Store your encoded message as `decoded_message`.\n",
    "- Print `decoded_message`. Does this recover your original message?"
   ]
  },
  {
   "cell_type": "code",
   "execution_count": 16,
   "metadata": {},
   "outputs": [
    {
     "name": "stdout",
     "output_type": "stream",
     "text": [
      "original character k encoded as h\n",
      "original character l encoded as i\n",
      "original character c encoded as  \n",
      "original character p encoded as m\n",
      "original character a encoded as y\n",
      "original character c encoded as  \n",
      "original character q encoded as n\n",
      "original character d encoded as a\n",
      "original character p encoded as m\n",
      "original character h encoded as e\n",
      "original character c encoded as  \n",
      "original character l encoded as i\n",
      "original character v encoded as s\n",
      "original character c encoded as  \n",
      "original character f encoded as c\n",
      "original character d encoded as a\n",
      "original character h encoded as e\n",
      "original character v encoded as s\n",
      "original character d encoded as a\n",
      "original character u encoded as r\n",
      "hi my name is caesar\n"
     ]
    }
   ],
   "source": [
    "# write your code here!\n",
    "decoded_message = encoding(message=encoded_message, key=-3)\n",
    "print(decoded_message)"
   ]
  }
 ],
 "metadata": {
  "kernelspec": {
   "display_name": "Python 3.10.6 ('base')",
   "language": "python",
   "name": "python3"
  },
  "language_info": {
   "codemirror_mode": {
    "name": "ipython",
    "version": 3
   },
   "file_extension": ".py",
   "mimetype": "text/x-python",
   "name": "python",
   "nbconvert_exporter": "python",
   "pygments_lexer": "ipython3",
   "version": "3.10.6"
  },
  "vscode": {
   "interpreter": {
    "hash": "d4d1e4263499bec80672ea0156c357c1ee493ec2b1c70f0acce89fc37c4a6abe"
   }
  }
 },
 "nbformat": 4,
 "nbformat_minor": 2
}
